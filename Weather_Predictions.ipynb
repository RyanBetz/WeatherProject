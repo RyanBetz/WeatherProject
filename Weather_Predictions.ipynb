{
 "cells": [
  {
   "cell_type": "code",
   "execution_count": 53,
   "metadata": {
    "collapsed": true
   },
   "outputs": [],
   "source": [
    "#import packages\n",
    "import pandas as pd"
   ]
  },
  {
   "cell_type": "code",
   "execution_count": 54,
   "outputs": [],
   "source": [
    "#read files\n",
    "humidity = pd.read_csv('humidity.csv')\n",
    "temperature = pd.read_csv('temperature.csv')\n",
    "pressure = pd.read_csv('pressure.csv')\n",
    "weather_description = pd.read_csv('weather_description.csv')\n",
    "wind_direction = pd.read_csv('wind_direction.csv')\n",
    "wind_speed = pd.read_csv('wind_speed.csv')"
   ],
   "metadata": {
    "collapsed": false
   }
  },
  {
   "cell_type": "code",
   "execution_count": 55,
   "outputs": [
    {
     "name": "stdout",
     "output_type": "stream",
     "text": [
      "(35101, 217)\n"
     ]
    },
    {
     "data": {
      "text/plain": "               datetime  Vancouver_humidity  Portland_humidity  \\\n27  2012-10-02 15:00:00                89.0               76.0   \n45  2012-10-03 09:00:00                81.0               77.0   \n49  2012-10-03 13:00:00                87.0               81.0   \n68  2012-10-04 08:00:00                72.0               71.0   \n72  2012-10-04 12:00:00                43.0               66.0   \n\n    San Francisco_humidity  Seattle_humidity  Los Angeles_humidity  \\\n27                    51.0              87.0                  88.0   \n45                    68.0              71.0                  53.0   \n49                    42.0              81.0                  64.0   \n68                    55.0              40.0                  77.0   \n72                    72.0              56.0                  82.0   \n\n    San Diego_humidity  Las Vegas_humidity  Phoenix_humidity  \\\n27                73.0                16.0              17.0   \n45                78.0                19.0              25.0   \n49                64.0                21.0              28.0   \n68                83.0                20.0              25.0   \n72                88.0                28.0              31.0   \n\n    Albuquerque_humidity  ...  Philadelphia_pressure  New York_pressure  \\\n27                  41.0  ...                 1014.0             1012.0   \n45                  39.0  ...                 1015.0             1015.0   \n49                  50.0  ...                 1016.0             1017.0   \n68                  25.0  ...                 1016.0             1016.0   \n72                  43.0  ...                 1017.0             1018.0   \n\n    Montreal_pressure  Boston_pressure  Beersheba_pressure  \\\n27             1002.0           1014.0               985.0   \n45             1013.0           1013.0               985.0   \n49             1015.0           1014.0               985.0   \n68             1018.0           1017.0               987.0   \n72             1019.0           1020.0               986.0   \n\n    Tel Aviv District_pressure  Eilat_pressure  Haifa_pressure  \\\n27                      1013.0          1011.0          1013.0   \n45                      1014.0          1013.0          1013.0   \n49                      1013.0          1010.0          1013.0   \n68                      1016.0          1014.0          1013.0   \n72                      1013.0          1011.0          1013.0   \n\n    Nahariyya_pressure  Jerusalem_pressure  \n27              1013.0               990.0  \n45              1013.0               991.0  \n49              1013.0               990.0  \n68              1013.0               992.0  \n72              1013.0               991.0  \n\n[5 rows x 217 columns]",
      "text/html": "<div>\n<style scoped>\n    .dataframe tbody tr th:only-of-type {\n        vertical-align: middle;\n    }\n\n    .dataframe tbody tr th {\n        vertical-align: top;\n    }\n\n    .dataframe thead th {\n        text-align: right;\n    }\n</style>\n<table border=\"1\" class=\"dataframe\">\n  <thead>\n    <tr style=\"text-align: right;\">\n      <th></th>\n      <th>datetime</th>\n      <th>Vancouver_humidity</th>\n      <th>Portland_humidity</th>\n      <th>San Francisco_humidity</th>\n      <th>Seattle_humidity</th>\n      <th>Los Angeles_humidity</th>\n      <th>San Diego_humidity</th>\n      <th>Las Vegas_humidity</th>\n      <th>Phoenix_humidity</th>\n      <th>Albuquerque_humidity</th>\n      <th>...</th>\n      <th>Philadelphia_pressure</th>\n      <th>New York_pressure</th>\n      <th>Montreal_pressure</th>\n      <th>Boston_pressure</th>\n      <th>Beersheba_pressure</th>\n      <th>Tel Aviv District_pressure</th>\n      <th>Eilat_pressure</th>\n      <th>Haifa_pressure</th>\n      <th>Nahariyya_pressure</th>\n      <th>Jerusalem_pressure</th>\n    </tr>\n  </thead>\n  <tbody>\n    <tr>\n      <th>27</th>\n      <td>2012-10-02 15:00:00</td>\n      <td>89.0</td>\n      <td>76.0</td>\n      <td>51.0</td>\n      <td>87.0</td>\n      <td>88.0</td>\n      <td>73.0</td>\n      <td>16.0</td>\n      <td>17.0</td>\n      <td>41.0</td>\n      <td>...</td>\n      <td>1014.0</td>\n      <td>1012.0</td>\n      <td>1002.0</td>\n      <td>1014.0</td>\n      <td>985.0</td>\n      <td>1013.0</td>\n      <td>1011.0</td>\n      <td>1013.0</td>\n      <td>1013.0</td>\n      <td>990.0</td>\n    </tr>\n    <tr>\n      <th>45</th>\n      <td>2012-10-03 09:00:00</td>\n      <td>81.0</td>\n      <td>77.0</td>\n      <td>68.0</td>\n      <td>71.0</td>\n      <td>53.0</td>\n      <td>78.0</td>\n      <td>19.0</td>\n      <td>25.0</td>\n      <td>39.0</td>\n      <td>...</td>\n      <td>1015.0</td>\n      <td>1015.0</td>\n      <td>1013.0</td>\n      <td>1013.0</td>\n      <td>985.0</td>\n      <td>1014.0</td>\n      <td>1013.0</td>\n      <td>1013.0</td>\n      <td>1013.0</td>\n      <td>991.0</td>\n    </tr>\n    <tr>\n      <th>49</th>\n      <td>2012-10-03 13:00:00</td>\n      <td>87.0</td>\n      <td>81.0</td>\n      <td>42.0</td>\n      <td>81.0</td>\n      <td>64.0</td>\n      <td>64.0</td>\n      <td>21.0</td>\n      <td>28.0</td>\n      <td>50.0</td>\n      <td>...</td>\n      <td>1016.0</td>\n      <td>1017.0</td>\n      <td>1015.0</td>\n      <td>1014.0</td>\n      <td>985.0</td>\n      <td>1013.0</td>\n      <td>1010.0</td>\n      <td>1013.0</td>\n      <td>1013.0</td>\n      <td>990.0</td>\n    </tr>\n    <tr>\n      <th>68</th>\n      <td>2012-10-04 08:00:00</td>\n      <td>72.0</td>\n      <td>71.0</td>\n      <td>55.0</td>\n      <td>40.0</td>\n      <td>77.0</td>\n      <td>83.0</td>\n      <td>20.0</td>\n      <td>25.0</td>\n      <td>25.0</td>\n      <td>...</td>\n      <td>1016.0</td>\n      <td>1016.0</td>\n      <td>1018.0</td>\n      <td>1017.0</td>\n      <td>987.0</td>\n      <td>1016.0</td>\n      <td>1014.0</td>\n      <td>1013.0</td>\n      <td>1013.0</td>\n      <td>992.0</td>\n    </tr>\n    <tr>\n      <th>72</th>\n      <td>2012-10-04 12:00:00</td>\n      <td>43.0</td>\n      <td>66.0</td>\n      <td>72.0</td>\n      <td>56.0</td>\n      <td>82.0</td>\n      <td>88.0</td>\n      <td>28.0</td>\n      <td>31.0</td>\n      <td>43.0</td>\n      <td>...</td>\n      <td>1017.0</td>\n      <td>1018.0</td>\n      <td>1019.0</td>\n      <td>1020.0</td>\n      <td>986.0</td>\n      <td>1013.0</td>\n      <td>1011.0</td>\n      <td>1013.0</td>\n      <td>1013.0</td>\n      <td>991.0</td>\n    </tr>\n  </tbody>\n</table>\n<p>5 rows × 217 columns</p>\n</div>"
     },
     "execution_count": 55,
     "metadata": {},
     "output_type": "execute_result"
    }
   ],
   "source": [
    "weather = pd.merge(humidity, temperature, on='datetime', suffixes=('_humidity', '_temperature'))\n",
    "weather = pd.merge(weather, weather_description, on='datetime', suffixes= ('', '_weather_desc'))\n",
    "weather = pd.merge(weather, wind_direction, on='datetime', suffixes=('', '_wind_direction'))\n",
    "weather = pd.merge(weather, wind_speed, on='datetime', suffixes=('', '_wind_speed'))\n",
    "weather = pd.merge(weather, pressure, on='datetime', suffixes=('', '_pressure'))\n",
    "weather.dropna(inplace=True)\n",
    "print(weather.shape)\n",
    "weather.head()"
   ],
   "metadata": {
    "collapsed": false
   }
  },
  {
   "cell_type": "code",
   "execution_count": 56,
   "outputs": [
    {
     "data": {
      "text/plain": "               datetime  Indianapolis_humidity  Indianapolis_temperature  \\\n27  2012-10-02 15:00:00                   71.0                    286.47   \n45  2012-10-03 09:00:00                  100.0                    285.15   \n49  2012-10-03 13:00:00                   93.0                    285.56   \n68  2012-10-04 08:00:00                   93.0                    286.86   \n72  2012-10-04 12:00:00                   93.0                    286.45   \n\n       Indianapolis  Indianapolis_wind_direction  Indianapolis_wind_speed  \\\n27  overcast clouds                         60.0                      5.0   \n45             mist                         50.0                      8.0   \n49          drizzle                         30.0                      6.0   \n68  overcast clouds                        180.0                      5.0   \n72             mist                        180.0                      4.0   \n\n    Indianapolis_pressure  \n27                 1011.0  \n45                 1006.0  \n49                 1007.0  \n68                 1013.0  \n72                 1016.0  ",
      "text/html": "<div>\n<style scoped>\n    .dataframe tbody tr th:only-of-type {\n        vertical-align: middle;\n    }\n\n    .dataframe tbody tr th {\n        vertical-align: top;\n    }\n\n    .dataframe thead th {\n        text-align: right;\n    }\n</style>\n<table border=\"1\" class=\"dataframe\">\n  <thead>\n    <tr style=\"text-align: right;\">\n      <th></th>\n      <th>datetime</th>\n      <th>Indianapolis_humidity</th>\n      <th>Indianapolis_temperature</th>\n      <th>Indianapolis</th>\n      <th>Indianapolis_wind_direction</th>\n      <th>Indianapolis_wind_speed</th>\n      <th>Indianapolis_pressure</th>\n    </tr>\n  </thead>\n  <tbody>\n    <tr>\n      <th>27</th>\n      <td>2012-10-02 15:00:00</td>\n      <td>71.0</td>\n      <td>286.47</td>\n      <td>overcast clouds</td>\n      <td>60.0</td>\n      <td>5.0</td>\n      <td>1011.0</td>\n    </tr>\n    <tr>\n      <th>45</th>\n      <td>2012-10-03 09:00:00</td>\n      <td>100.0</td>\n      <td>285.15</td>\n      <td>mist</td>\n      <td>50.0</td>\n      <td>8.0</td>\n      <td>1006.0</td>\n    </tr>\n    <tr>\n      <th>49</th>\n      <td>2012-10-03 13:00:00</td>\n      <td>93.0</td>\n      <td>285.56</td>\n      <td>drizzle</td>\n      <td>30.0</td>\n      <td>6.0</td>\n      <td>1007.0</td>\n    </tr>\n    <tr>\n      <th>68</th>\n      <td>2012-10-04 08:00:00</td>\n      <td>93.0</td>\n      <td>286.86</td>\n      <td>overcast clouds</td>\n      <td>180.0</td>\n      <td>5.0</td>\n      <td>1013.0</td>\n    </tr>\n    <tr>\n      <th>72</th>\n      <td>2012-10-04 12:00:00</td>\n      <td>93.0</td>\n      <td>286.45</td>\n      <td>mist</td>\n      <td>180.0</td>\n      <td>4.0</td>\n      <td>1016.0</td>\n    </tr>\n  </tbody>\n</table>\n</div>"
     },
     "execution_count": 56,
     "metadata": {},
     "output_type": "execute_result"
    }
   ],
   "source": [
    "#look at Indianapolis specifically\n",
    "indy_weather = weather.filter(regex='Indianapolis|datetime', axis=1)\n",
    "indy_weather.head()"
   ],
   "metadata": {
    "collapsed": false
   }
  },
  {
   "cell_type": "code",
   "execution_count": 57,
   "outputs": [
    {
     "data": {
      "text/plain": "              datetime  Indianapolis_humidity  Indianapolis_temperature  \\\n27 2012-10-02 15:00:00                   71.0                    286.47   \n45 2012-10-03 09:00:00                  100.0                    285.15   \n49 2012-10-03 13:00:00                   93.0                    285.56   \n68 2012-10-04 08:00:00                   93.0                    286.86   \n72 2012-10-04 12:00:00                   93.0                    286.45   \n\n       Indianapolis  Indianapolis_wind_direction  Indianapolis_wind_speed  \\\n27  overcast clouds                         60.0                      5.0   \n45             mist                         50.0                      8.0   \n49          drizzle                         30.0                      6.0   \n68  overcast clouds                        180.0                      5.0   \n72             mist                        180.0                      4.0   \n\n    Indianapolis_pressure  year  month  day  \n27                 1011.0  2012     10    2  \n45                 1006.0  2012     10    3  \n49                 1007.0  2012     10    3  \n68                 1013.0  2012     10    4  \n72                 1016.0  2012     10    4  ",
      "text/html": "<div>\n<style scoped>\n    .dataframe tbody tr th:only-of-type {\n        vertical-align: middle;\n    }\n\n    .dataframe tbody tr th {\n        vertical-align: top;\n    }\n\n    .dataframe thead th {\n        text-align: right;\n    }\n</style>\n<table border=\"1\" class=\"dataframe\">\n  <thead>\n    <tr style=\"text-align: right;\">\n      <th></th>\n      <th>datetime</th>\n      <th>Indianapolis_humidity</th>\n      <th>Indianapolis_temperature</th>\n      <th>Indianapolis</th>\n      <th>Indianapolis_wind_direction</th>\n      <th>Indianapolis_wind_speed</th>\n      <th>Indianapolis_pressure</th>\n      <th>year</th>\n      <th>month</th>\n      <th>day</th>\n    </tr>\n  </thead>\n  <tbody>\n    <tr>\n      <th>27</th>\n      <td>2012-10-02 15:00:00</td>\n      <td>71.0</td>\n      <td>286.47</td>\n      <td>overcast clouds</td>\n      <td>60.0</td>\n      <td>5.0</td>\n      <td>1011.0</td>\n      <td>2012</td>\n      <td>10</td>\n      <td>2</td>\n    </tr>\n    <tr>\n      <th>45</th>\n      <td>2012-10-03 09:00:00</td>\n      <td>100.0</td>\n      <td>285.15</td>\n      <td>mist</td>\n      <td>50.0</td>\n      <td>8.0</td>\n      <td>1006.0</td>\n      <td>2012</td>\n      <td>10</td>\n      <td>3</td>\n    </tr>\n    <tr>\n      <th>49</th>\n      <td>2012-10-03 13:00:00</td>\n      <td>93.0</td>\n      <td>285.56</td>\n      <td>drizzle</td>\n      <td>30.0</td>\n      <td>6.0</td>\n      <td>1007.0</td>\n      <td>2012</td>\n      <td>10</td>\n      <td>3</td>\n    </tr>\n    <tr>\n      <th>68</th>\n      <td>2012-10-04 08:00:00</td>\n      <td>93.0</td>\n      <td>286.86</td>\n      <td>overcast clouds</td>\n      <td>180.0</td>\n      <td>5.0</td>\n      <td>1013.0</td>\n      <td>2012</td>\n      <td>10</td>\n      <td>4</td>\n    </tr>\n    <tr>\n      <th>72</th>\n      <td>2012-10-04 12:00:00</td>\n      <td>93.0</td>\n      <td>286.45</td>\n      <td>mist</td>\n      <td>180.0</td>\n      <td>4.0</td>\n      <td>1016.0</td>\n      <td>2012</td>\n      <td>10</td>\n      <td>4</td>\n    </tr>\n  </tbody>\n</table>\n</div>"
     },
     "execution_count": 57,
     "metadata": {},
     "output_type": "execute_result"
    }
   ],
   "source": [
    "# Create a copy of the DataFrame to avoid modifying the original data\n",
    "indy_weather = indy_weather.copy()\n",
    "# Convert the 'datetime' column to a datetime object\n",
    "indy_weather.loc[:, 'datetime'] = pd.to_datetime(indy_weather['datetime'], format='%Y-%m-%d %H:%M:%S')\n",
    "\n",
    "# Extract year, month, day, hour, and day_of_week from the 'datetime' column\n",
    "indy_weather.loc[:, 'year'] = indy_weather['datetime'].dt.year\n",
    "indy_weather.loc[:, 'month'] = indy_weather['datetime'].dt.month\n",
    "indy_weather.loc[:, 'day'] = indy_weather['datetime'].dt.day\n",
    "indy_weather.head()\n"
   ],
   "metadata": {
    "collapsed": false
   }
  },
  {
   "cell_type": "code",
   "execution_count": 70,
   "outputs": [
    {
     "data": {
      "text/plain": "            year  month  day  Indianapolis_humidity  Indianapolis_temperature  \\\ndate                                                                            \n2012-10-02  2012     10    2                   71.0                   286.470   \n2012-10-03  2012     10    3                   96.5                   285.355   \n2012-10-04  2012     10    4                   93.0                   286.655   \n2012-10-06  2012     10    6                   77.0                   291.280   \n2012-10-10  2012     10   10                   52.0                   287.600   \n\n            Indianapolis_wind_direction  Indianapolis_wind_speed  \\\ndate                                                               \n2012-10-02                         60.0                      5.0   \n2012-10-03                         40.0                      7.0   \n2012-10-04                        180.0                      4.5   \n2012-10-06                        210.0                      3.0   \n2012-10-10                        204.0                      5.0   \n\n            Indianapolis_pressure  \ndate                               \n2012-10-02                 1011.0  \n2012-10-03                 1006.5  \n2012-10-04                 1014.5  \n2012-10-06                 1020.0  \n2012-10-10                  996.0  ",
      "text/html": "<div>\n<style scoped>\n    .dataframe tbody tr th:only-of-type {\n        vertical-align: middle;\n    }\n\n    .dataframe tbody tr th {\n        vertical-align: top;\n    }\n\n    .dataframe thead th {\n        text-align: right;\n    }\n</style>\n<table border=\"1\" class=\"dataframe\">\n  <thead>\n    <tr style=\"text-align: right;\">\n      <th></th>\n      <th>year</th>\n      <th>month</th>\n      <th>day</th>\n      <th>Indianapolis_humidity</th>\n      <th>Indianapolis_temperature</th>\n      <th>Indianapolis_wind_direction</th>\n      <th>Indianapolis_wind_speed</th>\n      <th>Indianapolis_pressure</th>\n    </tr>\n    <tr>\n      <th>date</th>\n      <th></th>\n      <th></th>\n      <th></th>\n      <th></th>\n      <th></th>\n      <th></th>\n      <th></th>\n      <th></th>\n    </tr>\n  </thead>\n  <tbody>\n    <tr>\n      <th>2012-10-02</th>\n      <td>2012</td>\n      <td>10</td>\n      <td>2</td>\n      <td>71.0</td>\n      <td>286.470</td>\n      <td>60.0</td>\n      <td>5.0</td>\n      <td>1011.0</td>\n    </tr>\n    <tr>\n      <th>2012-10-03</th>\n      <td>2012</td>\n      <td>10</td>\n      <td>3</td>\n      <td>96.5</td>\n      <td>285.355</td>\n      <td>40.0</td>\n      <td>7.0</td>\n      <td>1006.5</td>\n    </tr>\n    <tr>\n      <th>2012-10-04</th>\n      <td>2012</td>\n      <td>10</td>\n      <td>4</td>\n      <td>93.0</td>\n      <td>286.655</td>\n      <td>180.0</td>\n      <td>4.5</td>\n      <td>1014.5</td>\n    </tr>\n    <tr>\n      <th>2012-10-06</th>\n      <td>2012</td>\n      <td>10</td>\n      <td>6</td>\n      <td>77.0</td>\n      <td>291.280</td>\n      <td>210.0</td>\n      <td>3.0</td>\n      <td>1020.0</td>\n    </tr>\n    <tr>\n      <th>2012-10-10</th>\n      <td>2012</td>\n      <td>10</td>\n      <td>10</td>\n      <td>52.0</td>\n      <td>287.600</td>\n      <td>204.0</td>\n      <td>5.0</td>\n      <td>996.0</td>\n    </tr>\n  </tbody>\n</table>\n</div>"
     },
     "execution_count": 70,
     "metadata": {},
     "output_type": "execute_result"
    }
   ],
   "source": [
    "# Group by 'year', 'month', and 'day' columns and calculate the mean values for each day\n",
    "daily_data = indy_weather.groupby(['year', 'month', 'day']).mean().reset_index()\n",
    "\n",
    "# Create a new 'date' column by combining the 'year', 'month', and 'day' columns\n",
    "daily_data['date'] = pd.to_datetime(daily_data[['year', 'month', 'day']])\n",
    "\n",
    "# Set the DataFrame index to the new 'date' column\n",
    "daily_data.set_index('date', inplace=True)\n",
    "daily_data.head()\n"
   ],
   "metadata": {
    "collapsed": false
   }
  },
  {
   "cell_type": "code",
   "execution_count": 73,
   "outputs": [
    {
     "data": {
      "text/plain": "            year  month  day  Indianapolis_humidity  Indianapolis_temperature  \\\ndate                                                                            \n2012-10-02  2012     10    2                   71.0                   286.470   \n2012-10-03  2012     10    3                   96.5                   285.355   \n2012-10-04  2012     10    4                   93.0                   286.655   \n2012-10-06  2012     10    6                   77.0                   291.280   \n2012-10-10  2012     10   10                   52.0                   287.600   \n\n            Indianapolis_wind_direction  Indianapolis_wind_speed  \\\ndate                                                               \n2012-10-02                         60.0                      5.0   \n2012-10-03                         40.0                      7.0   \n2012-10-04                        180.0                      4.5   \n2012-10-06                        210.0                      3.0   \n2012-10-10                        204.0                      5.0   \n\n            Indianapolis_pressure  season_Autumn  season_Spring  \\\ndate                                                              \n2012-10-02                 1011.0              1              0   \n2012-10-03                 1006.5              1              0   \n2012-10-04                 1014.5              1              0   \n2012-10-06                 1020.0              1              0   \n2012-10-10                  996.0              1              0   \n\n            season_Summer  season_Winter  \ndate                                      \n2012-10-02              0              0  \n2012-10-03              0              0  \n2012-10-04              0              0  \n2012-10-06              0              0  \n2012-10-10              0              0  ",
      "text/html": "<div>\n<style scoped>\n    .dataframe tbody tr th:only-of-type {\n        vertical-align: middle;\n    }\n\n    .dataframe tbody tr th {\n        vertical-align: top;\n    }\n\n    .dataframe thead th {\n        text-align: right;\n    }\n</style>\n<table border=\"1\" class=\"dataframe\">\n  <thead>\n    <tr style=\"text-align: right;\">\n      <th></th>\n      <th>year</th>\n      <th>month</th>\n      <th>day</th>\n      <th>Indianapolis_humidity</th>\n      <th>Indianapolis_temperature</th>\n      <th>Indianapolis_wind_direction</th>\n      <th>Indianapolis_wind_speed</th>\n      <th>Indianapolis_pressure</th>\n      <th>season_Autumn</th>\n      <th>season_Spring</th>\n      <th>season_Summer</th>\n      <th>season_Winter</th>\n    </tr>\n    <tr>\n      <th>date</th>\n      <th></th>\n      <th></th>\n      <th></th>\n      <th></th>\n      <th></th>\n      <th></th>\n      <th></th>\n      <th></th>\n      <th></th>\n      <th></th>\n      <th></th>\n      <th></th>\n    </tr>\n  </thead>\n  <tbody>\n    <tr>\n      <th>2012-10-02</th>\n      <td>2012</td>\n      <td>10</td>\n      <td>2</td>\n      <td>71.0</td>\n      <td>286.470</td>\n      <td>60.0</td>\n      <td>5.0</td>\n      <td>1011.0</td>\n      <td>1</td>\n      <td>0</td>\n      <td>0</td>\n      <td>0</td>\n    </tr>\n    <tr>\n      <th>2012-10-03</th>\n      <td>2012</td>\n      <td>10</td>\n      <td>3</td>\n      <td>96.5</td>\n      <td>285.355</td>\n      <td>40.0</td>\n      <td>7.0</td>\n      <td>1006.5</td>\n      <td>1</td>\n      <td>0</td>\n      <td>0</td>\n      <td>0</td>\n    </tr>\n    <tr>\n      <th>2012-10-04</th>\n      <td>2012</td>\n      <td>10</td>\n      <td>4</td>\n      <td>93.0</td>\n      <td>286.655</td>\n      <td>180.0</td>\n      <td>4.5</td>\n      <td>1014.5</td>\n      <td>1</td>\n      <td>0</td>\n      <td>0</td>\n      <td>0</td>\n    </tr>\n    <tr>\n      <th>2012-10-06</th>\n      <td>2012</td>\n      <td>10</td>\n      <td>6</td>\n      <td>77.0</td>\n      <td>291.280</td>\n      <td>210.0</td>\n      <td>3.0</td>\n      <td>1020.0</td>\n      <td>1</td>\n      <td>0</td>\n      <td>0</td>\n      <td>0</td>\n    </tr>\n    <tr>\n      <th>2012-10-10</th>\n      <td>2012</td>\n      <td>10</td>\n      <td>10</td>\n      <td>52.0</td>\n      <td>287.600</td>\n      <td>204.0</td>\n      <td>5.0</td>\n      <td>996.0</td>\n      <td>1</td>\n      <td>0</td>\n      <td>0</td>\n      <td>0</td>\n    </tr>\n  </tbody>\n</table>\n</div>"
     },
     "execution_count": 73,
     "metadata": {},
     "output_type": "execute_result"
    }
   ],
   "source": [
    "# Map month values to season labels\n",
    "season_mapping = {\n",
    "    1: 'Winter',\n",
    "    2: 'Winter',\n",
    "    3: 'Spring',\n",
    "    4: 'Spring',\n",
    "    5: 'Spring',\n",
    "    6: 'Summer',\n",
    "    7: 'Summer',\n",
    "    8: 'Summer',\n",
    "    9: 'Autumn',\n",
    "    10: 'Autumn',\n",
    "    11: 'Autumn',\n",
    "    12: 'Winter'\n",
    "}\n",
    "daily_data['season'] = daily_data['month'].map(season_mapping)\n",
    "daily_data_encoded = pd.get_dummies(daily_data, columns=['season'])\n",
    "\n",
    "daily_data_encoded.head()"
   ],
   "metadata": {
    "collapsed": false
   }
  },
  {
   "cell_type": "code",
   "execution_count": 66,
   "outputs": [],
   "source": [
    "from sklearn.pipeline import Pipeline\n",
    "from sklearn.preprocessing import StandardScaler\n",
    "from sklearn.linear_model import LinearRegression\n",
    "\n",
    "# Define the preprocessing steps and the model\n",
    "preprocessing_steps = StandardScaler()\n",
    "model = LinearRegression()\n",
    "\n",
    "# Create the pipeline\n",
    "pipeline = Pipeline([\n",
    "    ('preprocessing', preprocessing_steps),\n",
    "    ('model', model)\n",
    "])\n",
    "# Define the input features and the target variable\n",
    "features = ['year', 'month', 'day', 'Indianapolis_temperature', 'Indianapolis_wind_direction', 'Indianapolis_humidity', 'Indianapolis_pressure']\n",
    "target_var = 'Indianapolis_wind_speed'\n",
    "\n",
    "# Extract the input features and the target variable from the DataFrame\n",
    "X = daily_data[features]\n",
    "y = daily_data[target_var]\n",
    "\n"
   ],
   "metadata": {
    "collapsed": false
   }
  },
  {
   "cell_type": "code",
   "execution_count": 68,
   "outputs": [
    {
     "name": "stdout",
     "output_type": "stream",
     "text": [
      "R2 score: 0.18901710301007502\n",
      "Mean squared error: 1.721408534146317\n",
      "Training set size: 1348\n",
      "Test set size: 337\n"
     ]
    }
   ],
   "source": [
    "from sklearn.model_selection import train_test_split\n",
    "\n",
    "# Split the data into training and test sets\n",
    "X_train, X_test, y_train, y_test = train_test_split(X, y, test_size=0.2, random_state=42)\n",
    "\n",
    "# Fit the pipeline to the training data\n",
    "pipeline.fit(X_train, y_train)\n",
    "\n",
    "# Predict the target variable for the test data\n",
    "y_pred = pipeline.predict(X_test)\n",
    "\n",
    "# Evaluate the performance of the model on the test data\n",
    "from sklearn.metrics import r2_score, mean_squared_error\n",
    "print('R2 score:', r2_score(y_test, y_pred))\n",
    "print('Mean squared error:', mean_squared_error(y_test, y_pred))\n",
    "\n"
   ],
   "metadata": {
    "collapsed": false
   }
  }
 ],
 "metadata": {
  "kernelspec": {
   "display_name": "Python 3",
   "language": "python",
   "name": "python3"
  },
  "language_info": {
   "codemirror_mode": {
    "name": "ipython",
    "version": 2
   },
   "file_extension": ".py",
   "mimetype": "text/x-python",
   "name": "python",
   "nbconvert_exporter": "python",
   "pygments_lexer": "ipython2",
   "version": "2.7.6"
  }
 },
 "nbformat": 4,
 "nbformat_minor": 0
}
